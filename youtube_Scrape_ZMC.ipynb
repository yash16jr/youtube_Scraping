{
 "cells": [
  {
   "cell_type": "code",
   "execution_count": 48,
   "id": "7095e704",
   "metadata": {},
   "outputs": [],
   "source": [
    "from selenium import webdriver \n",
    "from selenium.webdriver.common.by import By\n",
    "PATH = r'C:\\Users\\Yash\\python Workspace\\chromedriver.exe'"
   ]
  },
  {
   "cell_type": "code",
   "execution_count": 49,
   "id": "d8e4923d",
   "metadata": {},
   "outputs": [
    {
     "name": "stderr",
     "output_type": "stream",
     "text": [
      "C:\\Users\\Yash\\AppData\\Local\\Temp\\ipykernel_8480\\797652658.py:1: DeprecationWarning: executable_path has been deprecated, please pass in a Service object\n",
      "  driver = webdriver.Chrome(PATH)\n"
     ]
    }
   ],
   "source": [
    "driver = webdriver.Chrome(PATH)"
   ]
  },
  {
   "cell_type": "code",
   "execution_count": 50,
   "id": "a79494a7",
   "metadata": {},
   "outputs": [],
   "source": [
    "url = 'https://www.youtube.com/@zeemusiccompany/videos'\n",
    "driver.get(url)"
   ]
  },
  {
   "cell_type": "code",
   "execution_count": 51,
   "id": "5b2f668f",
   "metadata": {},
   "outputs": [],
   "source": [
    "videos = driver.find_element(By.CLASS_NAME,'style-scope ytd-rich-item-renderer')"
   ]
  },
  {
   "cell_type": "code",
   "execution_count": 59,
   "id": "879e31a6",
   "metadata": {},
   "outputs": [
    {
     "name": "stdout",
     "output_type": "stream",
     "text": [
      "['Chal Chalein Kahin Duur - Official Music Video | Samira Koppikar', 'Tarkeebein - Lyrical | Girta Toot’ta Dil | Harry Arora', 'Saahibaan - Official Music Video | Pallavi Ishpuniyani', 'Mayeni Meriye - Official Music Video | Priyanka Negi | Gunjan Dangwal', 'Teri Hogaiyaan 2 - Sidharth Shukla & Sonia Rathee | Broken But Beautiful 3 | Vishal Mishra | Lyrical', 'Sunny Deol & Ameesha Patel | Gadar Moments | Zee Cine Awards 2023', 'Varun Dhawan | Apna Bana Le | Zee Cine Awards 2023', 'Tenu Na Bol Pawaan - Asees Kaur | Rajkummar Rao, Shruti H | Behen Hogi Teri | Amjad Nadeem | Lyrical', 'Dil Nu Laggeya - Official Music Video | Samira Koppikar | Sahib', 'Aa Kar Le Khurapaat | Nato Is Here | Nato']\n"
     ]
    },
    {
     "data": {
      "text/plain": [
       "10"
      ]
     },
     "execution_count": 59,
     "metadata": {},
     "output_type": "execute_result"
    }
   ],
   "source": [
    "title = videos.find_elements(By.XPATH,'//*[@id=\"video-title\"]')\n",
    "title_list= []\n",
    "title_10 = title[0:10] \n",
    "for t in title_10:\n",
    "    t = t.text\n",
    "    title_list.append(t)\n",
    "print(title_list)    \n",
    "len(title_list)"
   ]
  },
  {
   "cell_type": "code",
   "execution_count": 53,
   "id": "2eb07065",
   "metadata": {},
   "outputs": [
    {
     "name": "stdout",
     "output_type": "stream",
     "text": [
      "['https://www.youtube.com/watch?v=R2sXa2bQors', 'https://www.youtube.com/watch?v=-xU-K781Slo', 'https://www.youtube.com/watch?v=gN0OtL5Lhic', 'https://www.youtube.com/watch?v=5-oE2HVjgv0', 'https://www.youtube.com/watch?v=vddtxbn0-ZA', 'https://www.youtube.com/watch?v=7NiKbUVc5Q0', 'https://www.youtube.com/watch?v=PGpzHbMy834', 'https://www.youtube.com/watch?v=b8GgyRynjm8', 'https://www.youtube.com/watch?v=L3gQjCYNAD8', 'https://www.youtube.com/watch?v=cCfjxXR8YSc']\n"
     ]
    }
   ],
   "source": [
    "video_url = videos.find_elements(By.XPATH,'//*[@id=\"video-title-link\"]')\n",
    "url_list = []\n",
    "url_10 = video_url[0:10]\n",
    "for u in url_10:\n",
    "    href_tag = u.get_attribute('href')\n",
    "    url_list.append(href_tag)\n",
    "\n",
    "print(url_list)"
   ]
  },
  {
   "cell_type": "code",
   "execution_count": 71,
   "id": "826221c4",
   "metadata": {},
   "outputs": [
    {
     "name": "stdout",
     "output_type": "stream",
     "text": [
      "['https://i.ytimg.com/vi/R2sXa2bQors/hqdefault.jpg?sqp=-oaymwEcCNACELwBSFXyq4qpAw4IARUAAIhCGAFwAcABBg==&rs=AOn4CLB7vLZ5t2iPbXpMPpGT7qm41Q2Taw', 'https://i.ytimg.com/vi/-xU-K781Slo/hqdefault.jpg?sqp=-oaymwEcCNACELwBSFXyq4qpAw4IARUAAIhCGAFwAcABBg==&rs=AOn4CLCaBPdjs8jUjaLWka2v8CbyhH6jeA', 'https://i.ytimg.com/vi/gN0OtL5Lhic/hqdefault.jpg?sqp=-oaymwEcCNACELwBSFXyq4qpAw4IARUAAIhCGAFwAcABBg==&rs=AOn4CLDGTwQQeuw1ukma7rFpwEXi5f6-mQ', 'https://i.ytimg.com/vi/5-oE2HVjgv0/hqdefault.jpg?sqp=-oaymwEcCNACELwBSFXyq4qpAw4IARUAAIhCGAFwAcABBg==&rs=AOn4CLDf8oOn3ErPHt37ilMHr3pdu6-d2Q', 'https://i.ytimg.com/vi/vddtxbn0-ZA/hqdefault.jpg?sqp=-oaymwEcCNACELwBSFXyq4qpAw4IARUAAIhCGAFwAcABBg==&rs=AOn4CLB6jxT8Yakh4R0rDTv5sy2L1cm0GQ', 'https://i.ytimg.com/vi/7NiKbUVc5Q0/hqdefault.jpg?sqp=-oaymwEcCNACELwBSFXyq4qpAw4IARUAAIhCGAFwAcABBg==&rs=AOn4CLAPM7R5G6sYpb75Bp6C-sXXbY0-iQ', 'https://i.ytimg.com/vi/PGpzHbMy834/hqdefault.jpg?sqp=-oaymwEcCNACELwBSFXyq4qpAw4IARUAAIhCGAFwAcABBg==&rs=AOn4CLBMaxGiy2Bty7UBX9cf0l76YnnNjg', 'https://i.ytimg.com/vi/b8GgyRynjm8/hqdefault.jpg?sqp=-oaymwEcCNACELwBSFXyq4qpAw4IARUAAIhCGAFwAcABBg==&rs=AOn4CLAKjIITFX_7dKVmH3fntPBZ5pIofQ', 'https://i.ytimg.com/vi/L3gQjCYNAD8/hqdefault.jpg?sqp=-oaymwEcCNACELwBSFXyq4qpAw4IARUAAIhCGAFwAcABBg==&rs=AOn4CLB8-DlXeSE8ItYtzf3QEl16J0PAmA', 'https://i.ytimg.com/vi/cCfjxXR8YSc/hqdefault.jpg?sqp=-oaymwEcCNACELwBSFXyq4qpAw4IARUAAIhCGAFwAcABBg==&rs=AOn4CLAiii_seGf0L7nnXmvovwt4uDbExA']\n"
     ]
    },
    {
     "data": {
      "text/plain": [
       "10"
      ]
     },
     "execution_count": 71,
     "metadata": {},
     "output_type": "execute_result"
    }
   ],
   "source": [
    "video_thumbnail = videos.find_elements(By.XPATH,'//*[@id=\"thumbnail\"]/yt-image/img')\n",
    "thumbnail_list = []\n",
    "thumbnail_10 = video_thumbnail[0:10]\n",
    "for i in thumbnail_10:\n",
    "    img_tag = i.get_attribute('src')\n",
    "    thumbnail_list.append(img_tag)\n",
    "print(thumbnail_list)   \n",
    "len(thumbnail_list)"
   ]
  },
  {
   "cell_type": "code",
   "execution_count": 72,
   "id": "2c1343d9",
   "metadata": {},
   "outputs": [
    {
     "name": "stdout",
     "output_type": "stream",
     "text": [
      "['7.5K views', '6.9K views', '23K views', '906K views', '41K views', '632K views', '51K views', '46K views', '8.5K views', '4.6K views']\n"
     ]
    },
    {
     "data": {
      "text/plain": [
       "10"
      ]
     },
     "execution_count": 72,
     "metadata": {},
     "output_type": "execute_result"
    }
   ],
   "source": [
    "views = videos.find_elements(By.XPATH,'//*[@id=\"metadata-line\"]/span[1]')\n",
    "views_list = []\n",
    "views_10 = views[0:10]\n",
    "for v in views_10:\n",
    "    v= v.text\n",
    "    views_list.append(v)\n",
    "print(views_list)    \n",
    "len(views_list)"
   ]
  },
  {
   "cell_type": "code",
   "execution_count": 73,
   "id": "0bf50990",
   "metadata": {},
   "outputs": [],
   "source": [
    "import csv \n",
    "import pandas as pd\n"
   ]
  },
  {
   "cell_type": "code",
   "execution_count": 74,
   "id": "2826c507",
   "metadata": {},
   "outputs": [
    {
     "data": {
      "text/html": [
       "<div>\n",
       "<style scoped>\n",
       "    .dataframe tbody tr th:only-of-type {\n",
       "        vertical-align: middle;\n",
       "    }\n",
       "\n",
       "    .dataframe tbody tr th {\n",
       "        vertical-align: top;\n",
       "    }\n",
       "\n",
       "    .dataframe thead th {\n",
       "        text-align: right;\n",
       "    }\n",
       "</style>\n",
       "<table border=\"1\" class=\"dataframe\">\n",
       "  <thead>\n",
       "    <tr style=\"text-align: right;\">\n",
       "      <th></th>\n",
       "      <th>Tile</th>\n",
       "      <th>URL</th>\n",
       "      <th>Views</th>\n",
       "      <th>Thumbnail_url</th>\n",
       "    </tr>\n",
       "  </thead>\n",
       "  <tbody>\n",
       "    <tr>\n",
       "      <th>0</th>\n",
       "      <td>Chal Chalein Kahin Duur - Official Music Video...</td>\n",
       "      <td>https://www.youtube.com/watch?v=R2sXa2bQors</td>\n",
       "      <td>7.5K views</td>\n",
       "      <td>https://i.ytimg.com/vi/R2sXa2bQors/hqdefault.j...</td>\n",
       "    </tr>\n",
       "    <tr>\n",
       "      <th>1</th>\n",
       "      <td>Tarkeebein - Lyrical | Girta Toot’ta Dil | Har...</td>\n",
       "      <td>https://www.youtube.com/watch?v=-xU-K781Slo</td>\n",
       "      <td>6.9K views</td>\n",
       "      <td>https://i.ytimg.com/vi/-xU-K781Slo/hqdefault.j...</td>\n",
       "    </tr>\n",
       "    <tr>\n",
       "      <th>2</th>\n",
       "      <td>Saahibaan - Official Music Video | Pallavi Ish...</td>\n",
       "      <td>https://www.youtube.com/watch?v=gN0OtL5Lhic</td>\n",
       "      <td>23K views</td>\n",
       "      <td>https://i.ytimg.com/vi/gN0OtL5Lhic/hqdefault.j...</td>\n",
       "    </tr>\n",
       "    <tr>\n",
       "      <th>3</th>\n",
       "      <td>Mayeni Meriye - Official Music Video | Priyank...</td>\n",
       "      <td>https://www.youtube.com/watch?v=5-oE2HVjgv0</td>\n",
       "      <td>906K views</td>\n",
       "      <td>https://i.ytimg.com/vi/5-oE2HVjgv0/hqdefault.j...</td>\n",
       "    </tr>\n",
       "    <tr>\n",
       "      <th>4</th>\n",
       "      <td>Teri Hogaiyaan 2 - Sidharth Shukla &amp; Sonia Rat...</td>\n",
       "      <td>https://www.youtube.com/watch?v=vddtxbn0-ZA</td>\n",
       "      <td>41K views</td>\n",
       "      <td>https://i.ytimg.com/vi/vddtxbn0-ZA/hqdefault.j...</td>\n",
       "    </tr>\n",
       "    <tr>\n",
       "      <th>5</th>\n",
       "      <td>Sunny Deol &amp; Ameesha Patel | Gadar Moments | Z...</td>\n",
       "      <td>https://www.youtube.com/watch?v=7NiKbUVc5Q0</td>\n",
       "      <td>632K views</td>\n",
       "      <td>https://i.ytimg.com/vi/7NiKbUVc5Q0/hqdefault.j...</td>\n",
       "    </tr>\n",
       "    <tr>\n",
       "      <th>6</th>\n",
       "      <td>Varun Dhawan | Apna Bana Le | Zee Cine Awards ...</td>\n",
       "      <td>https://www.youtube.com/watch?v=PGpzHbMy834</td>\n",
       "      <td>51K views</td>\n",
       "      <td>https://i.ytimg.com/vi/PGpzHbMy834/hqdefault.j...</td>\n",
       "    </tr>\n",
       "    <tr>\n",
       "      <th>7</th>\n",
       "      <td>Tenu Na Bol Pawaan - Asees Kaur | Rajkummar Ra...</td>\n",
       "      <td>https://www.youtube.com/watch?v=b8GgyRynjm8</td>\n",
       "      <td>46K views</td>\n",
       "      <td>https://i.ytimg.com/vi/b8GgyRynjm8/hqdefault.j...</td>\n",
       "    </tr>\n",
       "    <tr>\n",
       "      <th>8</th>\n",
       "      <td>Dil Nu Laggeya - Official Music Video | Samira...</td>\n",
       "      <td>https://www.youtube.com/watch?v=L3gQjCYNAD8</td>\n",
       "      <td>8.5K views</td>\n",
       "      <td>https://i.ytimg.com/vi/L3gQjCYNAD8/hqdefault.j...</td>\n",
       "    </tr>\n",
       "    <tr>\n",
       "      <th>9</th>\n",
       "      <td>Aa Kar Le Khurapaat | Nato Is Here | Nato</td>\n",
       "      <td>https://www.youtube.com/watch?v=cCfjxXR8YSc</td>\n",
       "      <td>4.6K views</td>\n",
       "      <td>https://i.ytimg.com/vi/cCfjxXR8YSc/hqdefault.j...</td>\n",
       "    </tr>\n",
       "  </tbody>\n",
       "</table>\n",
       "</div>"
      ],
      "text/plain": [
       "                                                Tile  \\\n",
       "0  Chal Chalein Kahin Duur - Official Music Video...   \n",
       "1  Tarkeebein - Lyrical | Girta Toot’ta Dil | Har...   \n",
       "2  Saahibaan - Official Music Video | Pallavi Ish...   \n",
       "3  Mayeni Meriye - Official Music Video | Priyank...   \n",
       "4  Teri Hogaiyaan 2 - Sidharth Shukla & Sonia Rat...   \n",
       "5  Sunny Deol & Ameesha Patel | Gadar Moments | Z...   \n",
       "6  Varun Dhawan | Apna Bana Le | Zee Cine Awards ...   \n",
       "7  Tenu Na Bol Pawaan - Asees Kaur | Rajkummar Ra...   \n",
       "8  Dil Nu Laggeya - Official Music Video | Samira...   \n",
       "9          Aa Kar Le Khurapaat | Nato Is Here | Nato   \n",
       "\n",
       "                                           URL       Views  \\\n",
       "0  https://www.youtube.com/watch?v=R2sXa2bQors  7.5K views   \n",
       "1  https://www.youtube.com/watch?v=-xU-K781Slo  6.9K views   \n",
       "2  https://www.youtube.com/watch?v=gN0OtL5Lhic   23K views   \n",
       "3  https://www.youtube.com/watch?v=5-oE2HVjgv0  906K views   \n",
       "4  https://www.youtube.com/watch?v=vddtxbn0-ZA   41K views   \n",
       "5  https://www.youtube.com/watch?v=7NiKbUVc5Q0  632K views   \n",
       "6  https://www.youtube.com/watch?v=PGpzHbMy834   51K views   \n",
       "7  https://www.youtube.com/watch?v=b8GgyRynjm8   46K views   \n",
       "8  https://www.youtube.com/watch?v=L3gQjCYNAD8  8.5K views   \n",
       "9  https://www.youtube.com/watch?v=cCfjxXR8YSc  4.6K views   \n",
       "\n",
       "                                       Thumbnail_url  \n",
       "0  https://i.ytimg.com/vi/R2sXa2bQors/hqdefault.j...  \n",
       "1  https://i.ytimg.com/vi/-xU-K781Slo/hqdefault.j...  \n",
       "2  https://i.ytimg.com/vi/gN0OtL5Lhic/hqdefault.j...  \n",
       "3  https://i.ytimg.com/vi/5-oE2HVjgv0/hqdefault.j...  \n",
       "4  https://i.ytimg.com/vi/vddtxbn0-ZA/hqdefault.j...  \n",
       "5  https://i.ytimg.com/vi/7NiKbUVc5Q0/hqdefault.j...  \n",
       "6  https://i.ytimg.com/vi/PGpzHbMy834/hqdefault.j...  \n",
       "7  https://i.ytimg.com/vi/b8GgyRynjm8/hqdefault.j...  \n",
       "8  https://i.ytimg.com/vi/L3gQjCYNAD8/hqdefault.j...  \n",
       "9  https://i.ytimg.com/vi/cCfjxXR8YSc/hqdefault.j...  "
      ]
     },
     "execution_count": 74,
     "metadata": {},
     "output_type": "execute_result"
    }
   ],
   "source": [
    "df = pd.DataFrame({'Tile' : title_list, 'URL' : url_list, 'Views' : views_list, 'Thumbnail_url' : thumbnail_list})\n",
    "df"
   ]
  },
  {
   "cell_type": "code",
   "execution_count": 76,
   "id": "74d1413b",
   "metadata": {},
   "outputs": [],
   "source": [
    "df.to_csv('youtube_scrape.csv')"
   ]
  },
  {
   "cell_type": "code",
   "execution_count": null,
   "id": "fc4ee589",
   "metadata": {},
   "outputs": [],
   "source": []
  }
 ],
 "metadata": {
  "kernelspec": {
   "display_name": "Python 3 (ipykernel)",
   "language": "python",
   "name": "python3"
  },
  "language_info": {
   "codemirror_mode": {
    "name": "ipython",
    "version": 3
   },
   "file_extension": ".py",
   "mimetype": "text/x-python",
   "name": "python",
   "nbconvert_exporter": "python",
   "pygments_lexer": "ipython3",
   "version": "3.9.13"
  }
 },
 "nbformat": 4,
 "nbformat_minor": 5
}
